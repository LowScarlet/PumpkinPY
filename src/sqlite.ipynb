{
 "cells": [
  {
   "cell_type": "code",
   "execution_count": 51,
   "metadata": {},
   "outputs": [],
   "source": [
    "import sqlite3"
   ]
  },
  {
   "cell_type": "code",
   "execution_count": 52,
   "metadata": {},
   "outputs": [
    {
     "name": "stdout",
     "output_type": "stream",
     "text": [
      "Opened database successfully\n"
     ]
    }
   ],
   "source": [
    "conn = sqlite3.connect('test.db')\n",
    "print(\"Opened database successfully\")"
   ]
  },
  {
   "cell_type": "code",
   "execution_count": 53,
   "metadata": {},
   "outputs": [
    {
     "name": "stdout",
     "output_type": "stream",
     "text": [
      "table COMPANY already exists\n"
     ]
    }
   ],
   "source": [
    "try:\n",
    "   conn.execute('''CREATE TABLE COMPANY\n",
    "            (\n",
    "               NIM                 TEXT    PRIMARY KEY    NOT NULL,\n",
    "               BIRTHDAY            TEXT,\n",
    "               FULLNAME            TEXT,\n",
    "               IPK                 INT\n",
    "            );\n",
    "      ''')\n",
    "   print(\"Table created successfully\")\n",
    "except Exception as e:\n",
    "   print(e)"
   ]
  },
  {
   "cell_type": "code",
   "execution_count": 54,
   "metadata": {},
   "outputs": [
    {
     "name": "stdout",
     "output_type": "stream",
     "text": [
      "Task running successfully\n"
     ]
    }
   ],
   "source": [
    "try:\n",
    "    conn.execute(\"INSERT INTO COMPANY   (NIM,BIRTHDAY,FULLNAME,IPK) \\\n",
    "                    VALUES              ('12301042001','01-04-2001','TEGAR MAULANA FAHREZA',3.73)\")\n",
    "    conn.execute(\"INSERT INTO COMPANY   (NIM,BIRTHDAY,FULLNAME,IPK) \\\n",
    "                    VALUES              ('13301042001','01-04-2001','RAHUL',3.73)\")\n",
    "    conn.execute(\"INSERT INTO COMPANY   (NIM,BIRTHDAY,FULLNAME,IPK) \\\n",
    "                    VALUES              ('33301042001','01-04-2001','JOSEP',4.00)\")\n",
    "    conn.execute(\"INSERT INTO COMPANY   (NIM,BIRTHDAY,FULLNAME,IPK) \\\n",
    "                    VALUES              ('13301052001','01-05-2001','ASEP',2.99)\")\n",
    "    print(\"Task running successfully\")\n",
    "except Exception as e:\n",
    "   print(e)"
   ]
  },
  {
   "cell_type": "code",
   "execution_count": 55,
   "metadata": {},
   "outputs": [
    {
     "name": "stdout",
     "output_type": "stream",
     "text": [
      "('12301042001', '01-04-2001', 'TEGAR MAULANA FAHREZA', 3.73)\n",
      "NIM        =  12301042001\n",
      "BIRTHDAY   =  01-04-2001\n",
      "FULLNAME   =  TEGAR MAULANA FAHREZA\n",
      "IPK        =  3.73 \n",
      "\n",
      "('13301042001', '01-04-2001', 'RAHUL', 3.73)\n",
      "NIM        =  13301042001\n",
      "BIRTHDAY   =  01-04-2001\n",
      "FULLNAME   =  RAHUL\n",
      "IPK        =  3.73 \n",
      "\n",
      "('33301042001', '01-04-2001', 'JOSEP', 4)\n",
      "NIM        =  33301042001\n",
      "BIRTHDAY   =  01-04-2001\n",
      "FULLNAME   =  JOSEP\n",
      "IPK        =  4 \n",
      "\n"
     ]
    }
   ],
   "source": [
    "cursor = conn.execute(\"SELECT NIM, BIRTHDAY, FULLNAME, IPK from COMPANY WHERE IPK>3.00\")\n",
    "for row in cursor:\n",
    "   print(row)\n",
    "   print(\"NIM        = \", row[0])\n",
    "   print(\"BIRTHDAY   = \", row[1])\n",
    "   print(\"FULLNAME   = \", row[2])\n",
    "   print(\"IPK        = \", row[3], \"\\n\")"
   ]
  },
  {
   "cell_type": "code",
   "execution_count": 56,
   "metadata": {},
   "outputs": [
    {
     "name": "stdout",
     "output_type": "stream",
     "text": [
      "Connection lost\n"
     ]
    }
   ],
   "source": [
    "conn.close()\n",
    "print(\"Connection lost\")"
   ]
  }
 ],
 "metadata": {
  "interpreter": {
   "hash": "b89b5cfaba6639976dc87ff2fec6d58faec662063367e2c229c520fe71072417"
  },
  "kernelspec": {
   "display_name": "Python 3.10.2 64-bit",
   "language": "python",
   "name": "python3"
  },
  "language_info": {
   "codemirror_mode": {
    "name": "ipython",
    "version": 3
   },
   "file_extension": ".py",
   "mimetype": "text/x-python",
   "name": "python",
   "nbconvert_exporter": "python",
   "pygments_lexer": "ipython3",
   "version": "3.10.2"
  },
  "orig_nbformat": 4
 },
 "nbformat": 4,
 "nbformat_minor": 2
}
